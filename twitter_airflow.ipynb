{
 "cells": [
  {
   "cell_type": "code",
   "execution_count": 25,
   "metadata": {},
   "outputs": [],
   "source": [
    "import tweepy\n",
    "import pandas as pd\n",
    "import json\n",
    "from datetime import datetime\n",
    "import s3fs"
   ]
  },
  {
   "cell_type": "code",
   "execution_count": 29,
   "metadata": {},
   "outputs": [],
   "source": [
    "data = pd.read_csv(\"data/kenya_gmo_tweets.csv\")"
   ]
  },
  {
   "cell_type": "code",
   "execution_count": 30,
   "metadata": {},
   "outputs": [
    {
     "data": {
      "text/plain": [
       "(1846, 4)"
      ]
     },
     "execution_count": 30,
     "metadata": {},
     "output_type": "execute_result"
    }
   ],
   "source": [
    "data.shape"
   ]
  },
  {
   "cell_type": "code",
   "execution_count": 31,
   "metadata": {},
   "outputs": [
    {
     "data": {
      "text/html": [
       "<div>\n",
       "<style scoped>\n",
       "    .dataframe tbody tr th:only-of-type {\n",
       "        vertical-align: middle;\n",
       "    }\n",
       "\n",
       "    .dataframe tbody tr th {\n",
       "        vertical-align: top;\n",
       "    }\n",
       "\n",
       "    .dataframe thead th {\n",
       "        text-align: right;\n",
       "    }\n",
       "</style>\n",
       "<table border=\"1\" class=\"dataframe\">\n",
       "  <thead>\n",
       "    <tr style=\"text-align: right;\">\n",
       "      <th></th>\n",
       "      <th>Unnamed: 0</th>\n",
       "      <th>Date</th>\n",
       "      <th>User</th>\n",
       "      <th>Tweet</th>\n",
       "    </tr>\n",
       "  </thead>\n",
       "  <tbody>\n",
       "    <tr>\n",
       "      <th>0</th>\n",
       "      <td>0</td>\n",
       "      <td>2022-10-05 13:24:43+00:00</td>\n",
       "      <td>KyleOchi6</td>\n",
       "      <td>Ruto was desperately hoping that Baba would so...</td>\n",
       "    </tr>\n",
       "    <tr>\n",
       "      <th>1</th>\n",
       "      <td>1</td>\n",
       "      <td>2022-10-05 13:24:03+00:00</td>\n",
       "      <td>john_onsaki12</td>\n",
       "      <td>@citizentvkenya This thing about GMO,major con...</td>\n",
       "    </tr>\n",
       "    <tr>\n",
       "      <th>2</th>\n",
       "      <td>2</td>\n",
       "      <td>2022-10-05 13:23:42+00:00</td>\n",
       "      <td>john_onsaki12</td>\n",
       "      <td>@citizentvkenya @serfine_achieng @AyubAbdikadi...</td>\n",
       "    </tr>\n",
       "    <tr>\n",
       "      <th>3</th>\n",
       "      <td>3</td>\n",
       "      <td>2022-10-05 13:23:41+00:00</td>\n",
       "      <td>lilmatich</td>\n",
       "      <td>We don't really care! We just want GMO food to...</td>\n",
       "    </tr>\n",
       "    <tr>\n",
       "      <th>4</th>\n",
       "      <td>4</td>\n",
       "      <td>2022-10-05 13:23:32+00:00</td>\n",
       "      <td>Abdul_Kitambazi</td>\n",
       "      <td>@ItsKamala GMO tunayoitumia kwa sasa ni \\n\\nMa...</td>\n",
       "    </tr>\n",
       "  </tbody>\n",
       "</table>\n",
       "</div>"
      ],
      "text/plain": [
       "   Unnamed: 0                       Date             User  \\\n",
       "0           0  2022-10-05 13:24:43+00:00        KyleOchi6   \n",
       "1           1  2022-10-05 13:24:03+00:00    john_onsaki12   \n",
       "2           2  2022-10-05 13:23:42+00:00    john_onsaki12   \n",
       "3           3  2022-10-05 13:23:41+00:00        lilmatich   \n",
       "4           4  2022-10-05 13:23:32+00:00  Abdul_Kitambazi   \n",
       "\n",
       "                                               Tweet  \n",
       "0  Ruto was desperately hoping that Baba would so...  \n",
       "1  @citizentvkenya This thing about GMO,major con...  \n",
       "2  @citizentvkenya @serfine_achieng @AyubAbdikadi...  \n",
       "3  We don't really care! We just want GMO food to...  \n",
       "4  @ItsKamala GMO tunayoitumia kwa sasa ni \\n\\nMa...  "
      ]
     },
     "execution_count": 31,
     "metadata": {},
     "output_type": "execute_result"
    }
   ],
   "source": [
    "data.head()"
   ]
  },
  {
   "cell_type": "code",
   "execution_count": 14,
   "metadata": {},
   "outputs": [],
   "source": [
    "# def run_twitter_etl():\n",
    "#     access_key = \"tmcxFuOESr7X6nahqzltGHSeS\" \n",
    "#     access_secret = \"P5sL5j898xDh376fxdnpHKy2Gg0v5VLK2MYNBysMLIWdcU7xOu\" \n",
    "#     consumer_key = \"1900525861-yklZ74eDXFJlbraPFKan0I8DOfOWlIdZouyrq20\"\n",
    "#     consumer_secret = \"h7nCOm6smL2ZsaL96NDz5S90hoe3t97puHl2AREXCnsdK\"\n",
    "\n",
    "\n",
    "#     # Twitter authentication\n",
    "#     auth = tweepy.OAuthHandler(access_key, access_secret)   \n",
    "#     auth.set_access_token(consumer_key, consumer_secret) \n",
    "\n",
    "#     # # # Creating an API object \n",
    "#     api = tweepy.API(auth)\n",
    "#     tweets = api.user_timeline(screen_name='@@amerix', \n",
    "#                             # 200 is the maximum allowed count\n",
    "#                             count=200,\n",
    "#                             include_rts = False,\n",
    "#                             # Necessary to keep full_text \n",
    "#                             # otherwise only the first 140 words are extracted\n",
    "#                             tweet_mode = 'extended'\n",
    "#                             )\n",
    "\n",
    "#     list = []\n",
    "#     for tweet in tweets:\n",
    "#         text = tweet._json[\"full_text\"]\n",
    "\n",
    "#         refined_tweet = {\"user\": tweet.user.screen_name,\n",
    "#                         'text' : text,\n",
    "#                         'favorite_count' : tweet.favorite_count,\n",
    "#                         'retweet_count' : tweet.retweet_count,\n",
    "#                         'created_at' : tweet.created_at}\n",
    "        \n",
    "#         list.append(refined_tweet)\n",
    "\n",
    "#     df = pd.DataFrame(list)\n",
    "#     df.to_csv('refined_tweets.csv')\n",
    "\n",
    "#     print(tweets)\n"
   ]
  }
 ],
 "metadata": {
  "kernelspec": {
   "display_name": "Python 3.9.7 ('movie_app')",
   "language": "python",
   "name": "python3"
  },
  "language_info": {
   "codemirror_mode": {
    "name": "ipython",
    "version": 3
   },
   "file_extension": ".py",
   "mimetype": "text/x-python",
   "name": "python",
   "nbconvert_exporter": "python",
   "pygments_lexer": "ipython3",
   "version": "3.9.7"
  },
  "orig_nbformat": 4,
  "vscode": {
   "interpreter": {
    "hash": "9c5df05b36c3448ae52d66f283dddd3463eb42020d4da8fe6be2ad66444f26c7"
   }
  }
 },
 "nbformat": 4,
 "nbformat_minor": 2
}
